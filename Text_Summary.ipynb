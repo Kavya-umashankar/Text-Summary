{
 "cells": [
  {
   "cell_type": "code",
   "execution_count": 1,
   "id": "adb70cb9-32db-4546-96be-b5161a01f96f",
   "metadata": {},
   "outputs": [],
   "source": [
    "text= \"\"\"Was it enough? That was the question he kept asking himself. Was being satisfied enough? He looked around him at everyone yearning to just be satisfied in their daily life and he had reached that goal. He knew that he was satisfied and he also knew it wasn't going to be enough.\n",
    "The water rush down the wash and into the slot canyon below. Two hikers had started the day to sunny weather without a cloud in the sky, but they hadn't thought to check the weather north of the canyon. Huge thunderstorms had brought a deluge o rain and produced flash floods heading their way. The two hikers had no idea what was coming.\n",
    "It was hidden under the log beside the stream. It had been there for as long as Jerry had been alive. He wasn't sure if anyone besides him and his friends knew of its existence. He knew that anyone could potentially find it, but it was well enough hidden that it seemed unlikely to happen. The fact that it had been there for more than 30 years attested to this. So it was quite a surprise when he found the item was missing.\n",
    "He hid under the covers hoping that nobody would notice him there. It really didn't make much sense since it would be obvious to anyone who walked into the room there was someone hiding there, but he still held out hope. He heard footsteps coming down the hall and stop in front in front of the bedroom door. He heard the squeak of the door hinges and someone opened the bedroom door. He held his breath waiting for whoever was about to discover him, but they never did.\"\"\""
   ]
  },
  {
   "cell_type": "code",
   "execution_count": 5,
   "id": "e8c1b9ed-f617-4ec4-aa2a-5a5796509500",
   "metadata": {},
   "outputs": [
    {
     "name": "stdout",
     "output_type": "stream",
     "text": [
      "He knew that he was satisfied and he also knew it wasn't going to be enough.Two hikers had started the day to sunny weather without a cloud in the sky, but they hadn't thought to check the weather north of the canyon.\n"
     ]
    }
   ],
   "source": [
    "from sumy.parsers.plaintext import PlaintextParser\n",
    "from sumy.nlp.tokenizers import Tokenizer\n",
    "\n",
    "# Creating text parser using tokenization\n",
    "parser = PlaintextParser.from_string(text, Tokenizer(\"english\"))\n",
    "\n",
    "from sumy.summarizers.text_rank import TextRankSummarizer\n",
    "\n",
    "# Summarize using sumy TextRank\n",
    "summarizer = TextRankSummarizer()\n",
    "summary = summarizer(parser.document, 2)\n",
    "\n",
    "text_summary = \"\"\n",
    "for sentence in summary:\n",
    "  text_summary += str(sentence)\n",
    "\n",
    "print(text_summary)"
   ]
  },
  {
   "cell_type": "code",
   "execution_count": 7,
   "id": "a751c4b9-adec-4e26-9f33-af2b891d3234",
   "metadata": {},
   "outputs": [
    {
     "data": {
      "text/plain": [
       "\"He knew that he was satisfied and he also knew it wasn't going to be enough.\""
      ]
     },
     "execution_count": 7,
     "metadata": {},
     "output_type": "execute_result"
    }
   ],
   "source": [
    "from sumy.parsers.plaintext import PlaintextParser\n",
    "from sumy.nlp.tokenizers import Tokenizer\n",
    "from sumy.summarizers.lex_rank import LexRankSummarizer\n",
    "def sumy_method(text):\n",
    "  parser = PlaintextParser.from_string(text, Tokenizer(\"english\"))\n",
    "  summarizer = LexRankSummarizer()\n",
    "  #Summarize the document with 2 sentences\n",
    "  summary = summarizer(parser.document, 2)\n",
    "  dp = []\n",
    "  for i in summary:\n",
    "    lp = str(i)\n",
    "  dp.append(lp)\n",
    "  final_sentence = ' '.join(dp)\n",
    "  return final_sentence\n",
    "\n",
    "sumy_method(text)"
   ]
  },
  {
   "cell_type": "code",
   "execution_count": 9,
   "id": "c9126410-6dba-4956-888e-83aadcf72dee",
   "metadata": {},
   "outputs": [
    {
     "data": {
      "text/plain": [
       "\"Two hikers had started the day to sunny weather without a cloud in the sky, but they hadn't thought to check the weather north of the canyon.\""
      ]
     },
     "execution_count": 9,
     "metadata": {},
     "output_type": "execute_result"
    }
   ],
   "source": [
    "from sumy.summarizers.luhn import LuhnSummarizer\n",
    "def lunh_method(text):\n",
    "  parser = PlaintextParser.from_string(text, Tokenizer(\"english\"))\n",
    "  summarizer_luhn = LuhnSummarizer()\n",
    "  summary_1 = summarizer_luhn(parser.document, 2)\n",
    "  dp = []\n",
    "  for i in summary_1:\n",
    "    lp = str(i)\n",
    "  dp.append(lp)\n",
    "  final_sentence = ' '.join(dp)\n",
    "  return final_sentence\n",
    "lunh_method(text)"
   ]
  },
  {
   "cell_type": "code",
   "execution_count": 11,
   "id": "4a0a6418-4240-4194-bd5c-e74ee1bcbd5f",
   "metadata": {},
   "outputs": [
    {
     "data": {
      "text/plain": [
       "'He held his breath waiting for whoever was about to discover him, but they never did.'"
      ]
     },
     "execution_count": 11,
     "metadata": {},
     "output_type": "execute_result"
    }
   ],
   "source": [
    "from sumy.summarizers.lsa import LsaSummarizer\n",
    "def lsa_method(text):\n",
    "  parser = PlaintextParser.from_string(text, Tokenizer(\"english\"))\n",
    "  summarizer_lsa = LsaSummarizer()\n",
    "  summary_2 = summarizer_lsa(parser.document, 2)\n",
    "  dp = []\n",
    "  for i in summary_2:\n",
    "    lp = str(i)\n",
    "  dp.append(lp)\n",
    "  final_sentence = ' '.join(dp)\n",
    "  return final_sentence\n",
    "\n",
    "lsa_method(text)"
   ]
  },
  {
   "cell_type": "code",
   "execution_count": null,
   "id": "cecd6a39-7668-463f-8410-2ae6c6170035",
   "metadata": {},
   "outputs": [],
   "source": []
  }
 ],
 "metadata": {
  "kernelspec": {
   "display_name": "GPU-TF",
   "language": "python",
   "name": "gpu-tf"
  },
  "language_info": {
   "codemirror_mode": {
    "name": "ipython",
    "version": 3
   },
   "file_extension": ".py",
   "mimetype": "text/x-python",
   "name": "python",
   "nbconvert_exporter": "python",
   "pygments_lexer": "ipython3",
   "version": "3.9.18"
  }
 },
 "nbformat": 4,
 "nbformat_minor": 5
}
